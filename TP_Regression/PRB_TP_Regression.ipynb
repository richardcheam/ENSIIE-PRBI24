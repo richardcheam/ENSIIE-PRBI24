{
  "cells": [
    {
      "cell_type": "markdown",
      "id": "DzfJfOi8WRJp",
      "metadata": {
        "id": "DzfJfOi8WRJp"
      },
      "source": [
        "# 📝 Pattern Recognition & Biometrics. TP Régression\n",
        "\n",
        "Par Omar Galarraga et Sonia Garcia\n",
        "\n",
        "Binôme: CHEAM Richard, NOUV Ratanakmuny"
      ]
    },
    {
      "cell_type": "code",
      "execution_count": 1,
      "id": "6f1eac1c",
      "metadata": {
        "id": "6f1eac1c"
      },
      "outputs": [],
      "source": [
        "# import libraries\n",
        "\n",
        "import numpy as np\n",
        "import pandas as pd\n",
        "import matplotlib.pyplot as plt\n",
        "import seaborn as sns"
      ]
    },
    {
      "cell_type": "markdown",
      "id": "EWDOsRaVWRJx",
      "metadata": {
        "id": "EWDOsRaVWRJx"
      },
      "source": [
        "L'objectif de ce travail pratique est de réaliser des tâches de régression :\n",
        "\n",
        "* Linéaire simple\n",
        "* Multilinéaire (avec et sans régularisation)\n",
        "* Non linéaire avec réseaux de neurones\n",
        "\n",
        "Nous voudrons prédire le prix médian des maisons californiennes par quartier en fonction de plusieurs variables quantitatives.\n",
        "\n",
        "Commençons par charger les données et regarder la description de la base de données :\n"
      ]
    },
    {
      "cell_type": "code",
      "execution_count": 2,
      "id": "tsw6rkteKky7",
      "metadata": {
        "colab": {
          "base_uri": "https://localhost:8080/"
        },
        "id": "tsw6rkteKky7",
        "outputId": "97ea1d91-13d2-42c6-9712-83811c873dc7"
      },
      "outputs": [
        {
          "name": "stdout",
          "output_type": "stream",
          "text": [
            ".. _california_housing_dataset:\n",
            "\n",
            "California Housing dataset\n",
            "--------------------------\n",
            "\n",
            "**Data Set Characteristics:**\n",
            "\n",
            ":Number of Instances: 20640\n",
            "\n",
            ":Number of Attributes: 8 numeric, predictive attributes and the target\n",
            "\n",
            ":Attribute Information:\n",
            "    - MedInc        median income in block group\n",
            "    - HouseAge      median house age in block group\n",
            "    - AveRooms      average number of rooms per household\n",
            "    - AveBedrms     average number of bedrooms per household\n",
            "    - Population    block group population\n",
            "    - AveOccup      average number of household members\n",
            "    - Latitude      block group latitude\n",
            "    - Longitude     block group longitude\n",
            "\n",
            ":Missing Attribute Values: None\n",
            "\n",
            "This dataset was obtained from the StatLib repository.\n",
            "https://www.dcc.fc.up.pt/~ltorgo/Regression/cal_housing.html\n",
            "\n",
            "The target variable is the median house value for California districts,\n",
            "expressed in hundreds of thousands of dollars ($100,000).\n",
            "\n",
            "This dataset was derived from the 1990 U.S. census, using one row per census\n",
            "block group. A block group is the smallest geographical unit for which the U.S.\n",
            "Census Bureau publishes sample data (a block group typically has a population\n",
            "of 600 to 3,000 people).\n",
            "\n",
            "A household is a group of people residing within a home. Since the average\n",
            "number of rooms and bedrooms in this dataset are provided per household, these\n",
            "columns may take surprisingly large values for block groups with few households\n",
            "and many empty houses, such as vacation resorts.\n",
            "\n",
            "It can be downloaded/loaded using the\n",
            ":func:`sklearn.datasets.fetch_california_housing` function.\n",
            "\n",
            ".. topic:: References\n",
            "\n",
            "    - Pace, R. Kelley and Ronald Barry, Sparse Spatial Autoregressions,\n",
            "      Statistics and Probability Letters, 33 (1997) 291-297\n",
            "\n"
          ]
        }
      ],
      "source": [
        "from sklearn.datasets import fetch_california_housing\n",
        "\n",
        "california_housing = fetch_california_housing(as_frame=True)\n",
        "\n",
        "print(california_housing.DESCR)"
      ]
    },
    {
      "cell_type": "markdown",
      "id": "shFvcYh2K0fn",
      "metadata": {
        "id": "shFvcYh2K0fn"
      },
      "source": [
        "* 0.1) Montrez l'histogramme des variables (Piste : *california_housing.frame* contient un DataFrame de Pandas)"
      ]
    },
    {
      "cell_type": "code",
      "execution_count": 3,
      "id": "0Gzklw6ILcRd",
      "metadata": {
        "colab": {
          "base_uri": "https://localhost:8080/",
          "height": 1000
        },
        "id": "0Gzklw6ILcRd",
        "outputId": "a6588952-1b9d-41fe-a366-7b58eb79f455"
      },
      "outputs": [
        {
          "name": "stdout",
          "output_type": "stream",
          "text": [
            "       MedInc  HouseAge  AveRooms  AveBedrms  Population  AveOccup  Latitude  \\\n",
            "0      8.3252      41.0  6.984127   1.023810       322.0  2.555556     37.88   \n",
            "1      8.3014      21.0  6.238137   0.971880      2401.0  2.109842     37.86   \n",
            "2      7.2574      52.0  8.288136   1.073446       496.0  2.802260     37.85   \n",
            "3      5.6431      52.0  5.817352   1.073059       558.0  2.547945     37.85   \n",
            "4      3.8462      52.0  6.281853   1.081081       565.0  2.181467     37.85   \n",
            "...       ...       ...       ...        ...         ...       ...       ...   \n",
            "20635  1.5603      25.0  5.045455   1.133333       845.0  2.560606     39.48   \n",
            "20636  2.5568      18.0  6.114035   1.315789       356.0  3.122807     39.49   \n",
            "20637  1.7000      17.0  5.205543   1.120092      1007.0  2.325635     39.43   \n",
            "20638  1.8672      18.0  5.329513   1.171920       741.0  2.123209     39.43   \n",
            "20639  2.3886      16.0  5.254717   1.162264      1387.0  2.616981     39.37   \n",
            "\n",
            "       Longitude  MedHouseVal  \n",
            "0        -122.23        4.526  \n",
            "1        -122.22        3.585  \n",
            "2        -122.24        3.521  \n",
            "3        -122.25        3.413  \n",
            "4        -122.25        3.422  \n",
            "...          ...          ...  \n",
            "20635    -121.09        0.781  \n",
            "20636    -121.21        0.771  \n",
            "20637    -121.22        0.923  \n",
            "20638    -121.32        0.847  \n",
            "20639    -121.24        0.894  \n",
            "\n",
            "[20640 rows x 9 columns]\n"
          ]
        },
        {
          "data": {
            "image/png": "[encoded data removed]",
            "text/plain": [
              "<Figure size 1500x1000 with 9 Axes>"
            ]
          },
          "metadata": {},
          "output_type": "display_data"
        }
      ],
      "source": [
        "#Ecrivez votre code\n",
        "df = california_housing.frame\n",
        "print(df)\n",
        "\n",
        "df.hist(figsize=(15, 10))\n",
        "plt.show()"
      ]
    },
    {
      "cell_type": "markdown",
      "id": "ee4b2cc2",
      "metadata": {},
      "source": [
        "Based on the histogram above, we can see that certain predictors follow normal distribution (MedInc, Longtitude,...). Whereas, some others have positively skewed distribution like Population, AveBedrms, and so on."
      ]
    },
    {
      "cell_type": "markdown",
      "id": "ot2tF6FsWRJ0",
      "metadata": {
        "id": "ot2tF6FsWRJ0"
      },
      "source": [
        "## Partie I. Régression linéaire simple\n",
        "\n",
        "Calculez la matrice de corrélations.\n",
        "\n",
        "* I.1) Si vous deviez choisir une seule variable pour réaliser une régression linéaire simple, laquelle choisiriez-vous ? Pourquoi ?"
      ]
    },
    {
      "cell_type": "code",
      "execution_count": 4,
      "id": "3wRDkO5zWRJ3",
      "metadata": {
        "colab": {
          "base_uri": "https://localhost:8080/",
          "height": 532
        },
        "id": "3wRDkO5zWRJ3",
        "outputId": "49da7415-61de-4ea7-ab86-6d4e74b66b47"
      },
      "outputs": [
        {
          "data": {
            "image/png": "[encoded data removed]",
            "text/plain": [
              "<Figure size 640x480 with 2 Axes>"
            ]
          },
          "metadata": {},
          "output_type": "display_data"
        }
      ],
      "source": [
        "#Ecrivez votre code ici\n",
        "\n",
        "# Calculate the correlation matrix\n",
        "corr_matrix = df.corr()\n",
        "\n",
        "# Heatmap of the correlation matrix\n",
        "sns.heatmap(corr_matrix, annot=True, fmt=\".2f\", cmap='coolwarm', cbar=True, square=True)\n",
        "plt.title('Correlation Matrix Heatmap')\n",
        "plt.show()"
      ]
    },
    {
      "cell_type": "markdown",
      "id": "ExhgvQUaoydg",
      "metadata": {
        "id": "ExhgvQUaoydg"
      },
      "source": [
        "**Response**:\n",
        "\n",
        "As we know, the target variable of this dataset is **MedHouseVal**. To know whether we can choose only one variable to create a simple linear regression is to see the heatmap of the correlation which variable that has the highest absolute value of the correlation with target variable.\n",
        "\n",
        "In the heatmap above, we can see that the **red color** is **positive correlation** and **blue color** is **negative correlation**.\n",
        "\n",
        "From the heatmap, we can see that variable **MedInc** seems to has the highest absolute value among others.\n",
        "\n",
        "Thus, we can create a simple linear regression with the target variable **MedHouseVal** with a variable **MedInc**."
      ]
    },
    {
      "cell_type": "markdown",
      "id": "ma0pJiRGWRJ_",
      "metadata": {
        "id": "ma0pJiRGWRJ_"
      },
      "source": [
        "Nous voudrons créer un modèle $ \\hat{y} = ax + b $, où $ \\hat{y} $ est la prédiction du prix médian des maisons par quartier et $x$ est la caractéristique choisie en I.1.\n",
        "\n",
        "* I.2) Quelles sont les valeurs optimales de $ a $ et $ b $ ?"
      ]
    },
    {
      "cell_type": "markdown",
      "id": "huKRVpDEsSyj",
      "metadata": {
        "id": "huKRVpDEsSyj"
      },
      "source": [
        "**Response**:\n",
        "\n",
        "We can find the value $a$ and $b$ by using the minimial error:\n",
        "\n",
        "We have\n",
        "\n",
        "$$J(a, b) = \\sum^n_{i=1}(y_i - ax_i - b)^2$$\n",
        "\n",
        "To find the minimal, we do the derivative to the smallest value:\n",
        "\n",
        "$$\\frac{\\partial J}{\\partial b} = \\frac{1}{n}\\sum^n_{i=1}(y_i - ax_i - b) = 0$$\n",
        "\n",
        "$$⇒ \\frac{1}{n}\\sum^n_{i=1}y_i - \\frac{a}{n}\\sum^n_{i=1}x_i - b = 0$$\n",
        "\n",
        "$$⇒ \\bar{Y} - a \\bar{X} - b = 0$$\n",
        "\n",
        "$$b = \\bar{Y} - a\\bar{X}$$\n",
        "\n",
        "and\n",
        "\n",
        "$$\\frac{\\partial J}{\\partial a} = \\frac{1}{n}\\sum^n_{i=1}(y_i - ax_i - b)x_i = 0$$\n",
        "\n",
        "$$⇒ \\frac{1}{n}\\sum^n_{i=1}y_ix_i - \\frac{a}{n}\\sum^n_{i=1}x_i^2 - \\frac{1}{n}\\sum^n_{i=1}x_ib = 0$$\n",
        "\n",
        "we substitute $b$ in:\n",
        "\n",
        "$$⇒ \\frac{1}{n}\\sum^n_{i=1}y_ix_i - \\frac{a}{n}\\sum^n_{i=1}x_i^2 - \\bar{X}(\\bar{Y} - a\\bar{X}) = 0$$\n",
        "\n",
        "$$⇒ \\frac{1}{n}\\sum^n_{i=1}y_ix_i - a\\bar{X^2} - \\bar{X}\\bar{Y} + a\\bar{X}^2 = 0$$\n",
        "\n",
        "$$⇒ \\frac{1}{n}\\sum^n_{i=1}y_ix_i - \\bar{X}\\bar{Y} = a(\\bar{X^2} - \\bar{X}^2)$$\n",
        "\n",
        "$$a = \\frac{cov(x,y)}{S^2_x} = r_{xy}\\frac{S_y}{S_x}$$\n",
        "\n"
      ]
    },
    {
      "cell_type": "code",
      "execution_count": 5,
      "id": "I5wcNSeVWRKA",
      "metadata": {
        "colab": {
          "base_uri": "https://localhost:8080/"
        },
        "id": "I5wcNSeVWRKA",
        "outputId": "79ee799a-3c17-4d78-d3a0-1acc16df8abf"
      },
      "outputs": [
        {
          "name": "stdout",
          "output_type": "stream",
          "text": [
            "The optimal value of a by formula: 0.4179384920189628\n",
            "The optimal value of b by formula: 0.4508557670326787\n",
            "The optimal value of a by fitting the model: 0.4179384920189624\n",
            "The optimal value of b by fitting the model: 0.4508557670326805\n"
          ]
        }
      ],
      "source": [
        "#Ecrivez votre code ici\n",
        "from sklearn.linear_model import LinearRegression\n",
        "\n",
        "#transform X,Y to numpy array as function fit of LinearRegression().fit() takes array as an argument\n",
        "X = np.asarray(df['MedInc']).reshape(-1,1)\n",
        "Y = np.asarray(df['MedHouseVal'])\n",
        "\n",
        "S_x = X.std()\n",
        "S_y = Y.std()\n",
        "r_xy = corr_matrix.loc['MedInc', 'MedHouseVal']\n",
        "\n",
        "X_ = X.mean()\n",
        "Y_ = Y.mean()\n",
        "\n",
        "a = r_xy * (S_y / S_x)\n",
        "b = Y_ - a*X_\n",
        "\n",
        "# Find by using the model.fit\n",
        "reg = LinearRegression().fit(X, Y)\n",
        "a_ = reg.coef_[0]\n",
        "b_ = reg.intercept_\n",
        "\n",
        "print(\"The optimal value of a by formula:\", a)\n",
        "print(\"The optimal value of b by formula:\", b)\n",
        "print(\"The optimal value of a by fitting the model:\", a_)\n",
        "print(\"The optimal value of b by fitting the model:\", b_)\n"
      ]
    },
    {
      "cell_type": "markdown",
      "id": "Jta-ZsYaWRKC",
      "metadata": {
        "id": "Jta-ZsYaWRKC"
      },
      "source": [
        "* I.3) Quelle est la valeur de $R^2$ ? Est-ce un bon ajustement ? Commentez\n",
        "* I.4) Tracez la courbe de régression sur le nuage de points entre la sortie désirée et l'entrée"
      ]
    },
    {
      "cell_type": "markdown",
      "id": "G19PIAsixD70",
      "metadata": {
        "id": "G19PIAsixD70"
      },
      "source": [
        "**Response**:\n",
        "\n",
        "The R-squared value is given by:\n",
        "\n",
        "$$R^2 = 1 - \\frac{\\sum_i(y_i - \\hat{y_i})^2}{\\sum_i(y_i - \\bar{y})^2}$$"
      ]
    },
    {
      "cell_type": "code",
      "execution_count": 6,
      "id": "69ef51d1",
      "metadata": {
        "id": "69ef51d1"
      },
      "outputs": [],
      "source": [
        "#define function to compute R^2 (coefficient of determination)\n",
        "def R_squared(Y_true, Y_hat):\n",
        "    res = 1 - ((Y_true  - Y_hat)** 2).sum()/((Y_true - Y_true.mean()) ** 2).sum()\n",
        "    return res"
      ]
    },
    {
      "cell_type": "code",
      "execution_count": 7,
      "id": "CRHCd08MWRKD",
      "metadata": {
        "colab": {
          "base_uri": "https://localhost:8080/"
        },
        "id": "CRHCd08MWRKD",
        "outputId": "0ebfeca7-65c6-4828-fe10-424224066ed9"
      },
      "outputs": [
        {
          "name": "stdout",
          "output_type": "stream",
          "text": [
            "R-squared: 0.47293192589970245\n",
            "R-squared by using library: 0.47293192589970245\n"
          ]
        }
      ],
      "source": [
        "#Ecrivez votre code ici\n",
        "\n",
        "#split data (one predictor)\n",
        "from sklearn.model_selection import train_test_split\n",
        "X_train, X_test, Y_train, Y_test = train_test_split(X, Y, test_size = 0.3, shuffle = True, random_state = 42)\n",
        "\n",
        "#fit simple linear model\n",
        "reg = LinearRegression().fit(X_train, Y_train)\n",
        "Y_pred = reg.predict(X_test)\n",
        "\n",
        "print(\"R-squared:\", R_squared(Y_test, Y_pred))\n",
        "print(\"R-squared by using library:\", reg.score(X_test, Y_test)) #reg.score return R^2"
      ]
    },
    {
      "cell_type": "markdown",
      "id": "YKDHrrI_y06h",
      "metadata": {
        "id": "YKDHrrI_y06h"
      },
      "source": [
        "**Response**: From the result above, it is not a good adjustment because the $R^2$ is not over 0.8 that we can consider as a good adjustment."
      ]
    },
    {
      "cell_type": "code",
      "execution_count": 8,
      "id": "gb9gaL_syw2v",
      "metadata": {
        "colab": {
          "base_uri": "https://localhost:8080/",
          "height": 450
        },
        "id": "gb9gaL_syw2v",
        "outputId": "cf3cbf98-0173-4e9d-8e9c-391cd3b2759a"
      },
      "outputs": [
        {
          "data": {
            "text/plain": [
              "[<matplotlib.lines.Line2D at 0x12fd2bb80>]"
            ]
          },
          "execution_count": 8,
          "metadata": {},
          "output_type": "execute_result"
        },
        {
          "data": {
            "image/png": "[encoded data removed]",
            "text/plain": [
              "<Figure size 640x480 with 1 Axes>"
            ]
          },
          "metadata": {},
          "output_type": "display_data"
        }
      ],
      "source": [
        "#create basic scatterplot\n",
        "plt.plot(X, Y, 'o')\n",
        "\n",
        "# a (slope), b (intercept)\n",
        "#add linear regression line to scatterplot\n",
        "plt.plot(X, a*X + b, color = 'red')"
      ]
    },
    {
      "cell_type": "markdown",
      "id": "PfXQyRljWRKF",
      "metadata": {
        "id": "PfXQyRljWRKF"
      },
      "source": [
        "* I.5) Quelle est l'erreur RMS de prédiction ? (en moyenne sur toutes les observations)"
      ]
    },
    {
      "cell_type": "markdown",
      "id": "EyTTO1-102gh",
      "metadata": {
        "id": "EyTTO1-102gh"
      },
      "source": [
        "**Response**:\n",
        "\n",
        "The mean squared error is given by:\n",
        "\n",
        "$$MSE = \\frac{1}{n}\\sum_{i=1}^{n}(Y_i - \\hat{Y_i})^2$$"
      ]
    },
    {
      "cell_type": "markdown",
      "id": "2993b562",
      "metadata": {
        "id": "2993b562"
      },
      "source": [
        "So, the root of mean squared error is given by:\n",
        "$$RMSE = \\sqrt{MSE} =  \\sqrt{\\frac{1}{n}\\sum_{i=1}^{n}(Y_i - \\hat{Y_i})^2}$$"
      ]
    },
    {
      "cell_type": "code",
      "execution_count": 9,
      "id": "ec3265fc",
      "metadata": {
        "id": "ec3265fc"
      },
      "outputs": [],
      "source": [
        "#define function to calculate mean squared error\n",
        "def MSE(Y_true, Y_hat):\n",
        "    obs = len(Y_true)\n",
        "    res = 1/obs * ((Y_true - Y_hat)**2).sum()\n",
        "    return res\n",
        "\n",
        "#define function to calculate root mean squared error\n",
        "def RMSE(Y_true, Y_hat):\n",
        "    return np.sqrt(MSE(Y_true, Y_hat))"
      ]
    },
    {
      "cell_type": "code",
      "execution_count": 10,
      "id": "xN8xttmXWRKH",
      "metadata": {
        "colab": {
          "base_uri": "https://localhost:8080/"
        },
        "id": "xN8xttmXWRKH",
        "outputId": "8a761d91-35fa-47fe-d44b-a08904af22c4"
      },
      "outputs": [
        {
          "name": "stdout",
          "output_type": "stream",
          "text": [
            "The root mean squared error: 0.8317439430526982\n",
            "The root mean squared error by using library: 0.8317439430526982\n"
          ]
        }
      ],
      "source": [
        "#Ecrivez votre code ici\n",
        "print(\"The root mean squared error:\", RMSE(Y_test, Y_pred))\n",
        "\n",
        "#Using the library\n",
        "from sklearn.metrics import mean_squared_error\n",
        "print(\"The root mean squared error by using library:\", np.sqrt(mean_squared_error(Y_test, Y_pred)))"
      ]
    },
    {
      "cell_type": "markdown",
      "id": "b134a82b",
      "metadata": {
        "id": "b134a82b"
      },
      "source": [
        "The error of simple linear regression is really high which suggest a bad prediction, we will see further if other approaches yield an improvement."
      ]
    },
    {
      "cell_type": "markdown",
      "id": "J1IbednbWRKI",
      "metadata": {
        "id": "J1IbednbWRKI"
      },
      "source": [
        "## Partie II. Régression multilinéaire\n",
        "\n",
        "Maintenant réalisez une régression linéaire en utilisant toutes les caractéristiques disponibles.\n",
        "\n",
        "* II.1) Quelle est l'erreur de prédiction ?\n",
        "* II.2) Quelle est la valeur de $R^2$ ? L'ajustement est-il meilleur qu'avec une seule variable d'entrée ?\n",
        "* II.3) Quels sont les coefficients associés aux variables d'entrée, ainsi que le terme indépendant ?"
      ]
    },
    {
      "cell_type": "code",
      "execution_count": 11,
      "id": "SI7tyTgwWRKU",
      "metadata": {
        "colab": {
          "base_uri": "https://localhost:8080/"
        },
        "id": "SI7tyTgwWRKU",
        "outputId": "654ecf9c-3e13-4aa2-c3ce-0b881bc8f442"
      },
      "outputs": [
        {
          "name": "stdout",
          "output_type": "stream",
          "text": [
            "The mean squared error of the prediction:  0.5305677824766754\n",
            "The root mean squared error of the prediction:  0.7284008391515453\n",
            "The value of R-squared:  0.5957702326061664\n"
          ]
        }
      ],
      "source": [
        "#Ecrivez votre code ici\n",
        "#drop Y from df\n",
        "all_X = df.drop(['MedHouseVal'], axis = 1)\n",
        "\n",
        "#split data (all predictor)\n",
        "X_train, X_test, Y_train, Y_test = train_test_split(all_X, Y, test_size = 0.3, shuffle = True, random_state = 42)\n",
        "multi_reg = LinearRegression().fit(X_train, Y_train)\n",
        "Y_pred = multi_reg.predict(X_test)\n",
        "\n",
        "RMSE_mult_reg = RMSE(Y_test, Y_pred)\n",
        "R2_mult_reg = R_squared(Y_test, Y_pred)\n",
        "\n",
        "print(\"The mean squared error of the prediction: \", MSE(Y_test, Y_pred))\n",
        "print(\"The root mean squared error of the prediction: \", RMSE_mult_reg)\n",
        "print(\"The value of R-squared: \", R2_mult_reg)"
      ]
    },
    {
      "cell_type": "markdown",
      "id": "lM-UBa8t3WcM",
      "metadata": {
        "id": "lM-UBa8t3WcM"
      },
      "source": [
        "Response:\n",
        "\n",
        "After fitting all variables in the model, we can see that the $R^2$ slightly increase that is better than using only one variable, which suggests that the model consists of multiple predictors (X) explains better the target variable (the median of house price)."
      ]
    },
    {
      "cell_type": "code",
      "execution_count": 12,
      "id": "URYBErFO3wxT",
      "metadata": {
        "colab": {
          "base_uri": "https://localhost:8080/"
        },
        "id": "URYBErFO3wxT",
        "outputId": "a3dff4ab-a20a-4dca-e3c2-843b74af3ffe"
      },
      "outputs": [
        {
          "name": "stdout",
          "output_type": "stream",
          "text": [
            "Coefficients: [ 4.45822565e-01  9.68186799e-03 -1.22095112e-01  7.78599557e-01\n",
            " -7.75740400e-07 -3.37002667e-03 -4.18536747e-01 -4.33687976e-01]\n",
            "Intercept (independent term): -37.0562413315252\n"
          ]
        }
      ],
      "source": [
        "# Find by using the model.fit\n",
        "print(\"Coefficients:\", multi_reg.coef_)\n",
        "print(\"Intercept (independent term):\", multi_reg.intercept_)"
      ]
    },
    {
      "cell_type": "markdown",
      "id": "ZCAXjms2WRKU",
      "metadata": {
        "id": "ZCAXjms2WRKU"
      },
      "source": [
        "Maintenant nous allons introduire un terme de régularisation, donc la nouvelle fonction de coût est : $$ J' = J + \\alpha\\sum_{i}{w_i^2} $$\n",
        "* II.4) Quelle est la valeur optimale du paramètre $\\alpha$ ? (Trouvez-la empiriquement)\n",
        "* II.5) Quelle est l'erreur RMS avec $\\alpha$ optimal ?"
      ]
    },
    {
      "cell_type": "markdown",
      "id": "NooUYN8w8l89",
      "metadata": {
        "id": "NooUYN8w8l89"
      },
      "source": [
        "**Response**:\n",
        "\n",
        "From the cost function that is given, it has been added the $l_2$ penalization or Ridge penalization\n",
        "\n",
        "We can write in form:\n",
        "\n",
        "$$J' = \\sum_{i=1}^{n}(y_i - X\\cdot w_i)^2 + \\alpha\\sum^n_{i}{||w_i||^2}$$\n",
        "\n",
        "where $X = (1, x_1, x_2, ..., x_n)$ and the weight $w_i = (b, a_1, a_2, ..., a_n)$\n"
      ]
    },
    {
      "cell_type": "markdown",
      "id": "J8fEAfuzLfvt",
      "metadata": {
        "id": "J8fEAfuzLfvt"
      },
      "source": [
        "To find the optimal value of $\\alpha$, we can use the K-folds validation.\n",
        "\n",
        "Algorithm:\n",
        "\n",
        "We $\\mathcal{G} = \\{\\text{some initial values}\\}$\n",
        "\n",
        "For $\\alpha \\in \\mathcal{G}$\n",
        "  \n",
        "$\\hspace{1cm}$ For $k$ in $1:K$\n",
        "\n",
        "$\\hspace{2cm}$ Estimate: $w^k_\\alpha = \\underset{w}{\\text{argmin}}||Y^{(-k)} - X^{(-k)} \\cdot w||^2 + \\alpha||w||^2$\n",
        "\n",
        "$\\hspace{2cm}$ Compute: RMSE($k,\\alpha$) = $||Y^{(k)} - X^{(k)} ⋅ w^k_{\\alpha}||^2 \\frac{1}{|F_k|}$ where $|F_k|$ is #obs in Fold k-th\n",
        "\n",
        "$\\hspace{1cm}$ RMSE($\\alpha$) = $\\frac{1}{K} \\sum^{K}_{i=1} RMSE(k,\\alpha)$\n",
        "\n",
        "Compute $\\alpha^⋆$ = $\\underset{w}{\\text{argmin}}$ RMSE($\\alpha$)\n",
        "\n",
        "From this, we also can compute the $w^{\\star}$ by\n",
        "\n",
        "$$w^{\\star} = {\\text{argmin}}||Y - X \\cdot w||^2 + \\alpha^{\\star}||w||^2$$"
      ]
    },
    {
      "cell_type": "markdown",
      "id": "udkL0aSNz1-2",
      "metadata": {
        "id": "udkL0aSNz1-2"
      },
      "source": [
        "Here we have chosen to implement the function over a grid of\n",
        "values ranging from $\\alpha = 10^{-8}$ to $\\alpha = 10^{-2}$ scaled by the standard deviation of $Y$, essentially covering the full range of scenarios from the null model containing only the intercept, to the least squares fit."
      ]
    },
    {
      "cell_type": "code",
      "execution_count": 13,
      "id": "SBmKGrupLa3K",
      "metadata": {
        "colab": {
          "base_uri": "https://localhost:8080/"
        },
        "id": "SBmKGrupLa3K",
        "outputId": "781ecd98-2502-4aa5-99c5-167fec0fb51f"
      },
      "outputs": [
        {
          "name": "stdout",
          "output_type": "stream",
          "text": [
            "Optimal alpha: 11.689878697208927\n"
          ]
        }
      ],
      "source": [
        "from sklearn.model_selection import KFold\n",
        "from sklearn.linear_model import Ridge\n",
        "from sklearn.metrics import mean_squared_error\n",
        "\n",
        "# define number of folds\n",
        "nb_fold = 10\n",
        "kf = KFold(n_splits=nb_fold, shuffle=True, random_state=42)\n",
        "\n",
        "# define a set of alpha values in a reasonable range\n",
        "alpha_list = 10**np.linspace(8, -2, 100) / Y_train.std()\n",
        "\n",
        "# creat array to store MSE\n",
        "rmse_scores = []\n",
        "\n",
        "# Perform K-Fold cross-validation on the training data (since we have many observations so we should keep testing data unseen)\n",
        "for alpha in alpha_list:\n",
        "    rmse_scores_fold = []\n",
        "    for train_index, test_index in kf.split(X_train):\n",
        "        # split data for current k-th fold\n",
        "        # use .iloc for Pandas DataFrame X_train\n",
        "        X_train_fold, X_test_fold = X_train.iloc[train_index], X_train.iloc[test_index]\n",
        "        Y_train_fold, Y_test_fold = Y_train[train_index], Y_train[test_index]\n",
        "\n",
        "        # fit Ridge Regression model with current alpha and train data at i-th fold\n",
        "        model = Ridge(alpha=alpha)\n",
        "        model.fit(X_train_fold, Y_train_fold)\n",
        "\n",
        "        # make prediction and compute the RMSE for the test data at i-th fold\n",
        "        Y_pred_fold = model.predict(X_test_fold)\n",
        "        rmse = RMSE(Y_test_fold, Y_pred_fold)\n",
        "        rmse_scores_fold.append(rmse)\n",
        "\n",
        "    # Calculate the mean of the RMSE scores for current alpha\n",
        "    rmse_scores.append(np.mean(rmse_scores_fold))\n",
        "\n",
        "# Find the alpha value with the smallest mean MSE\n",
        "\n",
        "#get index with lowest RMSE\n",
        "min_ind = np.argmin(rmse_scores)\n",
        "\n",
        "alpha_opt = alpha_list[min_ind]\n",
        "\n",
        "print(f\"Optimal alpha: {alpha_opt}\")"
      ]
    },
    {
      "cell_type": "code",
      "execution_count": 14,
      "id": "7603f115",
      "metadata": {
        "colab": {
          "base_uri": "https://localhost:8080/"
        },
        "id": "7603f115",
        "outputId": "0fdae197-2c50-4ecc-c9b8-a0a70ea44aae"
      },
      "outputs": [
        {
          "name": "stdout",
          "output_type": "stream",
          "text": [
            "Root mean squared error of l2 shrinkage method (Ridge): 0.7279250097098923\n",
            "R squared of l2 shrinkage method (Ridge): 0.5962981880655107\n"
          ]
        }
      ],
      "source": [
        "# Fit Ridge Regression with optimal alpha\n",
        "ridge_reg = Ridge(alpha=alpha_opt)\n",
        "ridge_reg.fit(X_train, Y_train)\n",
        "\n",
        "# make prediction\n",
        "Y_pred = ridge_reg.predict(X_test)\n",
        "\n",
        "RMSE_ridge_reg = RMSE(Y_test, Y_pred)\n",
        "R2_ridge_reg = R_squared(Y_test, Y_pred)\n",
        "\n",
        "print(f\"Root mean squared error of l2 shrinkage method (Ridge):\", RMSE_ridge_reg)\n",
        "print(f\"R squared of l2 shrinkage method (Ridge):\", R2_ridge_reg )"
      ]
    },
    {
      "cell_type": "markdown",
      "id": "fb0fac38",
      "metadata": {
        "id": "fb0fac38"
      },
      "source": [
        "With $l_2$ regularization, it performs slightly better than the multiple linear regression above."
      ]
    },
    {
      "cell_type": "markdown",
      "id": "eCmuZqeuWRKW",
      "metadata": {
        "id": "eCmuZqeuWRKW"
      },
      "source": [
        "Ajoutez des variables polynomiales d'ordre $o=2$ aux variables déjà disponibles. Comparez la régression avec et sans régularisation (RMSE, $R^2$)\n",
        "* II.6) Laquelle donne des meilleurs résultats ? Pourquoi ?  "
      ]
    },
    {
      "cell_type": "markdown",
      "id": "XNwujYPhpimq",
      "metadata": {
        "id": "XNwujYPhpimq"
      },
      "source": [
        "Scale data to avoid warning from algorithm (\"result may not be accurate\") when penalize the polynomial regression below."
      ]
    },
    {
      "cell_type": "code",
      "execution_count": 15,
      "id": "LXBZWVAFpiFL",
      "metadata": {
        "id": "LXBZWVAFpiFL"
      },
      "outputs": [],
      "source": [
        "from sklearn.preprocessing import StandardScaler\n",
        "\n",
        "#normalize data (centrer et réduit les donnée: (data-u)/sigma)\n",
        "scaler = StandardScaler()\n",
        "all_X_scaled = scaler.fit_transform(all_X)\n",
        "X_scaled_train, X_scaled_test, Y_train, Y_test = train_test_split(all_X_scaled, Y, test_size = 0.3, shuffle = True, random_state = 42)"
      ]
    },
    {
      "cell_type": "code",
      "execution_count": 16,
      "id": "bZCkckqSWRKW",
      "metadata": {
        "colab": {
          "base_uri": "https://localhost:8080/"
        },
        "collapsed": true,
        "id": "bZCkckqSWRKW",
        "outputId": "7337a49c-e096-46bd-fe9f-6e45983fe45d"
      },
      "outputs": [
        {
          "name": "stdout",
          "output_type": "stream",
          "text": [
            "RMSE of Polynomial Regression: 0.6745163730301121\n",
            "R-squared of Polynomial Regression: 0.653365002122877\n"
          ]
        }
      ],
      "source": [
        "#Ecrivez votre code ici\n",
        "\n",
        "from sklearn.preprocessing import PolynomialFeatures\n",
        "\n",
        "#init polynomial order\n",
        "order = 2\n",
        "\n",
        "#generate a new feature matrix consisting of all polynomial combinations of the features\n",
        "poly = PolynomialFeatures(degree=order)\n",
        "poly_all_X_train = poly.fit_transform(X_scaled_train)\n",
        "poly_all_X_test = poly.fit_transform(X_scaled_test)\n",
        "\n",
        "#fit polynomial regression\n",
        "poly_reg = LinearRegression().fit(poly_all_X_train, Y_train)\n",
        "\n",
        "#make prediction\n",
        "Y_pred = poly_reg.predict(poly_all_X_test)\n",
        "\n",
        "#store result for comparison later\n",
        "RMSE_poly_reg = RMSE(Y_test, Y_pred)\n",
        "R2_poly_reg = R_squared(Y_test, Y_pred)\n",
        "\n",
        "print(\"RMSE of Polynomial Regression:\", RMSE_poly_reg)\n",
        "print(\"R-squared of Polynomial Regression:\", R2_poly_reg)"
      ]
    },
    {
      "cell_type": "code",
      "execution_count": 17,
      "id": "17e5c256",
      "metadata": {
        "colab": {
          "base_uri": "https://localhost:8080/"
        },
        "id": "17e5c256",
        "outputId": "1dc8edfd-0ecd-4d35-928e-9f7aac0f40e7"
      },
      "outputs": [
        {
          "name": "stdout",
          "output_type": "stream",
          "text": [
            "RMSE of Polynomial Regression (with l2 penalization): 0.6637337462717816\n",
            "R-squared of Polynomial Regression (with l2 penalization): 0.6643588387758061\n"
          ]
        }
      ],
      "source": [
        "from sklearn.preprocessing import StandardScaler\n",
        "\n",
        "#use (poly_all_X_train) from above then use l2 penalization to fit model\n",
        "poly_ridge = Ridge(alpha=alpha_opt)\n",
        "poly_ridge.fit(poly_all_X_train, Y_train)\n",
        "\n",
        "#make prediction\n",
        "Y_pred = poly_ridge.predict(poly_all_X_test)\n",
        "\n",
        "#store result for comparison later\n",
        "RMSE_poly_ridge = RMSE(Y_test, Y_pred)\n",
        "R2_poly_ridge = R_squared(Y_test, Y_pred)\n",
        "\n",
        "print(\"RMSE of Polynomial Regression (with l2 penalization):\", RMSE_poly_ridge)\n",
        "print(\"R-squared of Polynomial Regression (with l2 penalization):\", R2_poly_ridge)"
      ]
    },
    {
      "cell_type": "markdown",
      "id": "bc15b6af",
      "metadata": {
        "id": "bc15b6af"
      },
      "source": [
        "### Comparison:"
      ]
    },
    {
      "cell_type": "code",
      "execution_count": 18,
      "id": "f1edca18",
      "metadata": {
        "colab": {
          "base_uri": "https://localhost:8080/",
          "height": 112
        },
        "id": "f1edca18",
        "outputId": "3dc94c3c-c442-4d85-d5c9-73e901d7845f"
      },
      "outputs": [
        {
          "data": {
            "text/html": [
              "<div>\n",
              "<style scoped>\n",
              "    .dataframe tbody tr th:only-of-type {\n",
              "        vertical-align: middle;\n",
              "    }\n",
              "\n",
              "    .dataframe tbody tr th {\n",
              "        vertical-align: top;\n",
              "    }\n",
              "\n",
              "    .dataframe thead th {\n",
              "        text-align: right;\n",
              "    }\n",
              "</style>\n",
              "<table border=\"1\" class=\"dataframe\">\n",
              "  <thead>\n",
              "    <tr style=\"text-align: right;\">\n",
              "      <th></th>\n",
              "      <th>Multiple Linear Regression</th>\n",
              "      <th>Ridge Regression</th>\n",
              "      <th>Polynomial Regression</th>\n",
              "      <th>Polyomial Regression (l2 penalization)</th>\n",
              "    </tr>\n",
              "  </thead>\n",
              "  <tbody>\n",
              "    <tr>\n",
              "      <th>RMSE</th>\n",
              "      <td>0.728401</td>\n",
              "      <td>0.727925</td>\n",
              "      <td>0.674516</td>\n",
              "      <td>0.663734</td>\n",
              "    </tr>\n",
              "    <tr>\n",
              "      <th>R_squared</th>\n",
              "      <td>0.595770</td>\n",
              "      <td>0.596298</td>\n",
              "      <td>0.653365</td>\n",
              "      <td>0.664359</td>\n",
              "    </tr>\n",
              "  </tbody>\n",
              "</table>\n",
              "</div>"
            ],
            "text/plain": [
              "           Multiple Linear Regression  Ridge Regression  \\\n",
              "RMSE                         0.728401          0.727925   \n",
              "R_squared                    0.595770          0.596298   \n",
              "\n",
              "           Polynomial Regression  Polyomial Regression (l2 penalization)  \n",
              "RMSE                    0.674516                                0.663734  \n",
              "R_squared               0.653365                                0.664359  "
            ]
          },
          "execution_count": 18,
          "metadata": {},
          "output_type": "execute_result"
        }
      ],
      "source": [
        "table = {'Multiple Linear Regression': [RMSE_mult_reg, R2_mult_reg],\n",
        "         'Ridge Regression': [RMSE_ridge_reg, R2_ridge_reg],\n",
        "         'Polynomial Regression': [RMSE_poly_reg, R2_poly_reg],\n",
        "         'Polyomial Regression (l2 penalization)': [RMSE_poly_ridge, R2_poly_ridge]}\n",
        "\n",
        "pd.DataFrame(table, index=[\"RMSE\", \"R_squared\"])"
      ]
    },
    {
      "cell_type": "markdown",
      "id": "bfe7ba8b",
      "metadata": {
        "id": "bfe7ba8b"
      },
      "source": [
        "From the table above, $\\textbf{Second-order Polynomial Regression}\\hspace{1mm}(l_2)$ is the best among others since it has the $\\textbf{lowest RMSE}$ value and the $\\textbf{highest}$ $R^2$ (slightly better than Polynomial Regression without penalty). Whereas, the others seem to not have any big or noticeable difference in terms of RMSE and $R^2$. Moreover, we can conclude that for this problem the regularization of a model performs better than the model itself without the regularization."
      ]
    },
    {
      "cell_type": "markdown",
      "id": "HxRPx84AWRKZ",
      "metadata": {
        "id": "HxRPx84AWRKZ"
      },
      "source": [
        "## Partie III. Régression non linéaire avec réseaux de neurones\n",
        "\n",
        "Construisez et entraînez un réseau de neurones type Perceptron Multicouche (PMC) à $N_{layer} = 3$ couches et avec $m=5$ neurones dans la couche cachée.\n",
        "\n",
        "N'oubliez pas de normaliser les données en prétraitement."
      ]
    },
    {
      "cell_type": "code",
      "execution_count": 19,
      "id": "6DUG0ViJWRKa",
      "metadata": {
        "id": "6DUG0ViJWRKa"
      },
      "outputs": [],
      "source": [
        "#Ecrivez votre code ici\n",
        "# total_layer = input_layer + hidden_layer + output_layer = 3, hidden = 5\n",
        "\n",
        "from sklearn.neural_network import MLPRegressor\n",
        "from sklearn.preprocessing import StandardScaler\n",
        "\n",
        "#normalize data (centrer et réduit les donnée: (data-u)/sigma)\n",
        "scaler = StandardScaler()\n",
        "all_X_scaled = scaler.fit_transform(all_X)\n",
        "\n",
        "#init model\n",
        "m = 5\n",
        "\n",
        "#we don't split the data since we are evaluating the model's performance on the data it was trained on (question below)\n",
        "MLP_model = MLPRegressor(hidden_layer_sizes=(m,), max_iter = 500).fit(all_X_scaled, Y) #max_iter = 500 so the algo can converge (300 will send warning)"
      ]
    },
    {
      "cell_type": "markdown",
      "id": "CIQyWFE6s6RY",
      "metadata": {
        "id": "CIQyWFE6s6RY"
      },
      "source": [
        "\n",
        "* III.1) Quelle sont les prix prédits pour les dix premières observations ?\n",
        "* III.2) Quelle est l'erreur RMS d'apprentissage ?"
      ]
    },
    {
      "cell_type": "code",
      "execution_count": 20,
      "id": "ymo2AiogWRKa",
      "metadata": {
        "colab": {
          "base_uri": "https://localhost:8080/"
        },
        "collapsed": true,
        "id": "ymo2AiogWRKa",
        "outputId": "2dff960f-bfbe-4ab4-9093-fd35ecb1dd7c"
      },
      "outputs": [
        {
          "name": "stdout",
          "output_type": "stream",
          "text": [
            "Predicted prices of the first 10 observations:\n",
            " [4.50047704 4.53403615 4.08707028 3.40886152 2.73155108 2.9757377\n",
            " 2.73472906 2.84674904 2.13318097 2.79845775]\n"
          ]
        }
      ],
      "source": [
        "#Ecrivez votre code ici\n",
        "Y_pred = MLP_model.predict(all_X_scaled)\n",
        "print(\"Predicted prices of the first 10 observations:\\n\", Y_pred[:10])"
      ]
    },
    {
      "cell_type": "code",
      "execution_count": 21,
      "id": "6SYz4dckh2Cf",
      "metadata": {
        "colab": {
          "base_uri": "https://localhost:8080/"
        },
        "id": "6SYz4dckh2Cf",
        "outputId": "58e7f73e-01f5-4d6d-c6f3-5601086a8961"
      },
      "outputs": [
        {
          "data": {
            "text/plain": [
              "array([4.526, 3.585, 3.521, 3.413, 3.422, 2.697, 2.992, 2.414, 2.267,\n",
              "       2.611])"
            ]
          },
          "execution_count": 21,
          "metadata": {},
          "output_type": "execute_result"
        }
      ],
      "source": [
        "Y[:10]"
      ]
    },
    {
      "cell_type": "markdown",
      "id": "7crJOfnOh8fT",
      "metadata": {
        "id": "7crJOfnOh8fT"
      },
      "source": [
        "For the first ten predictions, we can see that there are some noticeable decimal errors (approximately $10^{-1}$) for certain observations, which suggests a good prediction. We will see the error below."
      ]
    },
    {
      "cell_type": "code",
      "execution_count": 22,
      "id": "T05qbWkM-wUn",
      "metadata": {
        "colab": {
          "base_uri": "https://localhost:8080/"
        },
        "id": "T05qbWkM-wUn",
        "outputId": "225b1a46-4e91-400a-a4df-86f96ffbf08d"
      },
      "outputs": [
        {
          "name": "stdout",
          "output_type": "stream",
          "text": [
            "The squared root of mean square error of MLP: 0.5931984762984938\n"
          ]
        }
      ],
      "source": [
        "print(\"The squared root of mean square error of MLP:\", RMSE(Y, Y_pred))"
      ]
    },
    {
      "cell_type": "markdown",
      "id": "wTRMcP1KvQfD",
      "metadata": {
        "id": "wTRMcP1KvQfD"
      },
      "source": [
        "Réalisez une validation croisée type *K-Fold* avec $K=10$ (n'oubliez pas de mélanger les données préalablement)\n",
        "\n",
        "* III.3) Quelle sont les erreurs RMS d'apprentissage et de test ? (Moyenne et écart-type)"
      ]
    },
    {
      "cell_type": "code",
      "execution_count": 23,
      "id": "Fxv8e690u8mT",
      "metadata": {
        "colab": {
          "base_uri": "https://localhost:8080/"
        },
        "id": "Fxv8e690u8mT",
        "outputId": "092fbf2c-1374-40e8-cd72-aba5dc063945"
      },
      "outputs": [
        {
          "name": "stdout",
          "output_type": "stream",
          "text": [
            "The mean of RMSE of training performance: 0.5987721882706217\n",
            "The standard deviation of RMSE of training performance: 0.006783083900650291\n",
            "\n",
            "\n",
            "The mean of RMSE of testing performance: 0.6015246161534762\n",
            "The standard deviation of RMSE of testing performance: 0.01685381152819777\n"
          ]
        }
      ],
      "source": [
        "#Ecrivez votre code ici\n",
        "from sklearn.model_selection import KFold, cross_validate\n",
        "\n",
        "#init\n",
        "m = 5\n",
        "nb_fold = 10\n",
        "kf = KFold(n_splits=nb_fold, shuffle=True)\n",
        "\n",
        "# fit model and perform K-fold cross validation\n",
        "mlp_model = MLPRegressor(hidden_layer_sizes=(m,), max_iter=500)\n",
        "cv = cross_validate(mlp_model, all_X_scaled, Y, cv=kf, return_train_score = True, scoring='neg_root_mean_squared_error')\n",
        "\n",
        "#multiply the result by -1 since the scoring is -RMSE not RMSE\n",
        "#np.std already handle negative values so there's no need to multiply by -1 (std is the squared difference)\n",
        "print(\"The mean of RMSE of training performance:\", -np.mean(cv['train_score']))\n",
        "print(\"The standard deviation of RMSE of training performance:\", np.std(cv['train_score']))\n",
        "print(\"\\n\")\n",
        "print(\"The mean of RMSE of testing performance:\", -np.mean(cv['test_score']))\n",
        "print(\"The standard deviation of RMSE of testing performance:\", np.std(cv['test_score']))"
      ]
    },
    {
      "cell_type": "markdown",
      "id": "ee658251",
      "metadata": {
        "id": "ee658251"
      },
      "source": [
        "We can see that the RMSE between training and testing seem to not have much of a difference."
      ]
    },
    {
      "cell_type": "markdown",
      "id": "s1lyTn2yzTuS",
      "metadata": {
        "id": "s1lyTn2yzTuS"
      },
      "source": [
        "Optimisez le nombre de neurones $m$ dans la couche cachée (Piste : réalisez la validation croisée pour différentes valeurs de $m$)\n",
        "\n",
        "* III.4) Quelle est la valeur optimale de $m$ ? Pourquoi ?"
      ]
    },
    {
      "cell_type": "code",
      "execution_count": 24,
      "id": "sR9UyC7fxDlE",
      "metadata": {
        "id": "sR9UyC7fxDlE"
      },
      "outputs": [
        {
          "data": {
            "text/plain": [
              "{'hidden_layer_sizes': (64,)}"
            ]
          },
          "execution_count": 24,
          "metadata": {},
          "output_type": "execute_result"
        }
      ],
      "source": [
        "#Ecrivez votre code ici\n",
        "# using GridSearch cross-validation from sklearn\n",
        "from sklearn.model_selection import GridSearchCV\n",
        "\n",
        "#define range of number of neurons (even increment): [(2,), (4,), ..., (512,)]\n",
        "m_range = [(2**i,) for i in range(1, 10)]\n",
        "\n",
        "param_grid = {'hidden_layer_sizes': m_range}\n",
        "            #   ,'max_iter': [100, 200, 300, 400, 500, 700, 1000]} #comment to avoid long running time (best iter_max found is 400)\n",
        "\n",
        "mlp = MLPRegressor(max_iter=400)\n",
        "\n",
        "##scoring: -MSE since the lower the better, so taking negative means that the higher values are considered better\n",
        "gscv = GridSearchCV(mlp, param_grid, cv = 5, scoring='neg_mean_squared_error') #cv = 5 to avoid long running time\n",
        "gscv_res = gscv.fit(all_X_scaled, Y)\n",
        "gscv_res.best_params_"
      ]
    },
    {
      "cell_type": "code",
      "execution_count": 25,
      "id": "fFX7bYbC-KSW",
      "metadata": {
        "id": "fFX7bYbC-KSW"
      },
      "outputs": [
        {
          "name": "stdout",
          "output_type": "stream",
          "text": [
            "Optimal m: 64\n"
          ]
        }
      ],
      "source": [
        "best_m = gscv_res.best_params_[\"hidden_layer_sizes\"]\n",
        "print(\"Optimal m:\", best_m[0])"
      ]
    },
    {
      "cell_type": "markdown",
      "id": "BRXbz4Yt-LC9",
      "metadata": {
        "id": "BRXbz4Yt-LC9"
      },
      "source": [
        "**Response**:\n",
        "\n",
        "This value was selected after carrying out cross-validation (5 times) for different values of $m$ (number of neurons) in the hidden layer and maximum iteration of 400. Analysis of the model's performance shows that the given $m$ has the lowest average MSE score of all the values.\n"
      ]
    },
    {
      "cell_type": "markdown",
      "id": "C2zn3gc1jZnd",
      "metadata": {
        "id": "C2zn3gc1jZnd"
      },
      "source": [
        "Pour une validation-croisée type K-Fold avec $K=10$ (mélangez l'ordre des observations), remplissez le tableau de RMSE de test ci-dessous selon les différents types de régression.\n",
        "\n",
        "| Type de régression | Fold 1 | Fold 2 | Fold 3 | Fold 4 | Fold 5 | Fold 6 | Fold 7 | Fold 8 | Fold 9 | Fold 10 |\n",
        "|--------------------|---------|--------|--------|-------|--------|-------|---------|--------|--------|---------|\n",
        "| Linéaire simple    |  |  |  |  |  |  |  |  |  |  |\n",
        "| Multilinéaire sans régul.    |  |  |  |  |  |  |  |  |  |  |\n",
        "| Multilinéaire avec régul.    |  |  |  |  |  |  |  |  |  |  |\n",
        "| Polynomiale sans régul.    |  |  |  |  |  |  |  |  |  |  |\n",
        "| Polynomiale avec régul.    |  |  |  |  |  |  |  |  |  |  |\n",
        "| Non linéaire avec NN    |  |  |  |  |  |  |  |  |  |  |\n",
        "\n",
        "* III.5) Quelle est la méthode de régression la plus adaptée pour ce problème ? Justifiez\n"
      ]
    },
    {
      "cell_type": "code",
      "execution_count": 26,
      "id": "rQUpV7Cs-ZYM",
      "metadata": {
        "id": "rQUpV7Cs-ZYM"
      },
      "outputs": [],
      "source": [
        "#https://scikit-learn.org/stable/modules/model_evaluation.html#scoring-parameter (metric for cv)\n",
        "\n",
        "nb_fold = 10\n",
        "kf = KFold(n_splits=nb_fold, shuffle=True)\n",
        "poly_all_X = poly.fit_transform(all_X_scaled)\n",
        "\n",
        "reg = LinearRegression()\n",
        "mul_reg = LinearRegression()\n",
        "mul_reg_regul = Ridge(alpha=alpha_opt)\n",
        "poly_reg = LinearRegression()\n",
        "poly_reg_regul = Ridge(alpha=alpha_opt)\n",
        "mlp = MLPRegressor(hidden_layer_sizes=(best_m[0],), max_iter=400)\n",
        "\n",
        "cv_reg = cross_validate(reg, X, Y, cv=kf, scoring='neg_root_mean_squared_error')\n",
        "cv_mul_reg = cross_validate(mul_reg, all_X, Y, cv=kf, scoring='neg_root_mean_squared_error')\n",
        "cv_mul_reg_regul = cross_validate(mul_reg_regul, all_X, Y, cv=kf, scoring='neg_root_mean_squared_error')\n",
        "cv_poly_reg = cross_validate(poly_reg, poly_all_X, Y, cv=kf, scoring='neg_root_mean_squared_error')\n",
        "cv_poly_reg_regul = cross_validate(poly_reg_regul, poly_all_X, Y, cv=kf, scoring='neg_root_mean_squared_error')\n",
        "cv_mlp = cross_validate(mlp, all_X_scaled, Y, cv=kf, scoring='neg_root_mean_squared_error')\n",
        "\n",
        "# multiply by -1 because scoring is negative RMSE\n",
        "reg_RMSE = -cv_reg['test_score']\n",
        "mul_reg_RMSE  = -cv_mul_reg['test_score']\n",
        "mul_reg_regul_RMSE = -cv_mul_reg_regul['test_score']\n",
        "poly_reg_RMSE = -cv_poly_reg['test_score']\n",
        "poly_reg_regul_RMSE = -cv_poly_reg_regul['test_score']\n",
        "mlp_RMSE = -cv_mlp['test_score']"
      ]
    },
    {
      "cell_type": "code",
      "execution_count": 27,
      "id": "1c1b80f4",
      "metadata": {
        "id": "1c1b80f4"
      },
      "outputs": [
        {
          "data": {
            "text/html": [
              "<div>\n",
              "<style scoped>\n",
              "    .dataframe tbody tr th:only-of-type {\n",
              "        vertical-align: middle;\n",
              "    }\n",
              "\n",
              "    .dataframe tbody tr th {\n",
              "        vertical-align: top;\n",
              "    }\n",
              "\n",
              "    .dataframe thead th {\n",
              "        text-align: right;\n",
              "    }\n",
              "</style>\n",
              "<table border=\"1\" class=\"dataframe\">\n",
              "  <thead>\n",
              "    <tr style=\"text-align: right;\">\n",
              "      <th></th>\n",
              "      <th>Simple Linear Regression</th>\n",
              "      <th>Multiple Linear Regression</th>\n",
              "      <th>Multiple Linear Regression (l2 penalization)</th>\n",
              "      <th>Polynomial Regression</th>\n",
              "      <th>Polynomial Regression (l2 penalization)</th>\n",
              "      <th>Neural Network (Multilayer Perceptron)</th>\n",
              "    </tr>\n",
              "  </thead>\n",
              "  <tbody>\n",
              "    <tr>\n",
              "      <th>Fold 1</th>\n",
              "      <td>0.845988</td>\n",
              "      <td>0.720919</td>\n",
              "      <td>0.756519</td>\n",
              "      <td>0.735500</td>\n",
              "      <td>1.056071</td>\n",
              "      <td>0.551664</td>\n",
              "    </tr>\n",
              "    <tr>\n",
              "      <th>Fold 2</th>\n",
              "      <td>0.827290</td>\n",
              "      <td>0.695655</td>\n",
              "      <td>0.722414</td>\n",
              "      <td>0.679424</td>\n",
              "      <td>0.647340</td>\n",
              "      <td>0.523069</td>\n",
              "    </tr>\n",
              "    <tr>\n",
              "      <th>Fold 3</th>\n",
              "      <td>0.827214</td>\n",
              "      <td>0.747503</td>\n",
              "      <td>0.691994</td>\n",
              "      <td>0.725076</td>\n",
              "      <td>1.860859</td>\n",
              "      <td>0.563393</td>\n",
              "    </tr>\n",
              "    <tr>\n",
              "      <th>Fold 4</th>\n",
              "      <td>0.831510</td>\n",
              "      <td>0.764841</td>\n",
              "      <td>0.694364</td>\n",
              "      <td>0.700063</td>\n",
              "      <td>0.649092</td>\n",
              "      <td>0.561645</td>\n",
              "    </tr>\n",
              "    <tr>\n",
              "      <th>Fold 5</th>\n",
              "      <td>0.856065</td>\n",
              "      <td>0.723872</td>\n",
              "      <td>0.708727</td>\n",
              "      <td>0.645809</td>\n",
              "      <td>0.971532</td>\n",
              "      <td>0.535916</td>\n",
              "    </tr>\n",
              "    <tr>\n",
              "      <th>Fold 6</th>\n",
              "      <td>0.843606</td>\n",
              "      <td>0.768431</td>\n",
              "      <td>0.747232</td>\n",
              "      <td>0.686284</td>\n",
              "      <td>0.658057</td>\n",
              "      <td>0.514800</td>\n",
              "    </tr>\n",
              "    <tr>\n",
              "      <th>Fold 7</th>\n",
              "      <td>0.888555</td>\n",
              "      <td>0.723110</td>\n",
              "      <td>0.736388</td>\n",
              "      <td>0.689851</td>\n",
              "      <td>0.642261</td>\n",
              "      <td>0.505541</td>\n",
              "    </tr>\n",
              "    <tr>\n",
              "      <th>Fold 8</th>\n",
              "      <td>0.829836</td>\n",
              "      <td>0.680786</td>\n",
              "      <td>0.749004</td>\n",
              "      <td>1.194991</td>\n",
              "      <td>0.630955</td>\n",
              "      <td>0.591836</td>\n",
              "    </tr>\n",
              "    <tr>\n",
              "      <th>Fold 9</th>\n",
              "      <td>0.830101</td>\n",
              "      <td>0.717322</td>\n",
              "      <td>0.734675</td>\n",
              "      <td>0.702368</td>\n",
              "      <td>0.703663</td>\n",
              "      <td>0.557556</td>\n",
              "    </tr>\n",
              "    <tr>\n",
              "      <th>Fold 10</th>\n",
              "      <td>0.790409</td>\n",
              "      <td>0.725989</td>\n",
              "      <td>0.725079</td>\n",
              "      <td>0.660417</td>\n",
              "      <td>0.711248</td>\n",
              "      <td>0.517467</td>\n",
              "    </tr>\n",
              "  </tbody>\n",
              "</table>\n",
              "</div>"
            ],
            "text/plain": [
              "         Simple Linear Regression  Multiple Linear Regression  \\\n",
              "Fold 1                   0.845988                    0.720919   \n",
              "Fold 2                   0.827290                    0.695655   \n",
              "Fold 3                   0.827214                    0.747503   \n",
              "Fold 4                   0.831510                    0.764841   \n",
              "Fold 5                   0.856065                    0.723872   \n",
              "Fold 6                   0.843606                    0.768431   \n",
              "Fold 7                   0.888555                    0.723110   \n",
              "Fold 8                   0.829836                    0.680786   \n",
              "Fold 9                   0.830101                    0.717322   \n",
              "Fold 10                  0.790409                    0.725989   \n",
              "\n",
              "         Multiple Linear Regression (l2 penalization)  Polynomial Regression  \\\n",
              "Fold 1                                       0.756519               0.735500   \n",
              "Fold 2                                       0.722414               0.679424   \n",
              "Fold 3                                       0.691994               0.725076   \n",
              "Fold 4                                       0.694364               0.700063   \n",
              "Fold 5                                       0.708727               0.645809   \n",
              "Fold 6                                       0.747232               0.686284   \n",
              "Fold 7                                       0.736388               0.689851   \n",
              "Fold 8                                       0.749004               1.194991   \n",
              "Fold 9                                       0.734675               0.702368   \n",
              "Fold 10                                      0.725079               0.660417   \n",
              "\n",
              "         Polynomial Regression (l2 penalization)  \\\n",
              "Fold 1                                  1.056071   \n",
              "Fold 2                                  0.647340   \n",
              "Fold 3                                  1.860859   \n",
              "Fold 4                                  0.649092   \n",
              "Fold 5                                  0.971532   \n",
              "Fold 6                                  0.658057   \n",
              "Fold 7                                  0.642261   \n",
              "Fold 8                                  0.630955   \n",
              "Fold 9                                  0.703663   \n",
              "Fold 10                                 0.711248   \n",
              "\n",
              "         Neural Network (Multilayer Perceptron)  \n",
              "Fold 1                                 0.551664  \n",
              "Fold 2                                 0.523069  \n",
              "Fold 3                                 0.563393  \n",
              "Fold 4                                 0.561645  \n",
              "Fold 5                                 0.535916  \n",
              "Fold 6                                 0.514800  \n",
              "Fold 7                                 0.505541  \n",
              "Fold 8                                 0.591836  \n",
              "Fold 9                                 0.557556  \n",
              "Fold 10                                0.517467  "
            ]
          },
          "execution_count": 27,
          "metadata": {},
          "output_type": "execute_result"
        }
      ],
      "source": [
        "#save all RMSE in dictionary\n",
        "table = {\n",
        "    'Simple Linear Regression': reg_RMSE,\n",
        "    'Multiple Linear Regression': mul_reg_RMSE,\n",
        "    'Multiple Linear Regression (l2 penalization)': mul_reg_regul_RMSE,\n",
        "    'Polynomial Regression': poly_reg_RMSE,\n",
        "    'Polynomial Regression (l2 penalization)': poly_reg_regul_RMSE,\n",
        "    'Neural Network (Multilayer Perceptron)': mlp_RMSE\n",
        "}\n",
        "\n",
        "#create an array contain column names: ['Fold 1',...,'Fold 10']\n",
        "col_name = []\n",
        "for i in range(1, nb_fold + 1):\n",
        "    col_name.append(\"Fold \" + str(i))\n",
        "\n",
        "#print the result as dataframe\n",
        "pd.DataFrame(table, index=col_name)"
      ]
    },
    {
      "cell_type": "markdown",
      "id": "9UDSGVf54FXi",
      "metadata": {
        "id": "9UDSGVf54FXi"
      },
      "source": [
        "While RMSE can normally exceed 1, the table above suggests inconsistency across folds; for example, weird behaviour of RMSE of Polynomial Regression might indicate that the model is not very robust and is overfitting to certain folds of the data, so it may perform well on some folds but poorly on others."
      ]
    },
    {
      "cell_type": "code",
      "execution_count": 28,
      "id": "05cca077",
      "metadata": {
        "id": "05cca077"
      },
      "outputs": [
        {
          "name": "stdout",
          "output_type": "stream",
          "text": [
            "RMSE mean of simple linear regression: 0.8370575293459263\n",
            "RMSE mean of multiple linear regression: 0.7268426059520854\n",
            "RMSE mean of multiple linear regression (with l2 penalization): 0.7266397237138585\n",
            "RMSE mean of polynomial regression: 0.7419783521963527\n",
            "RMSE mean of polynomial regression (with l2 penalization): 0.8531076673289784\n",
            "RMSE mean of non linear regression with neural network (Multilayer Perceptron): 0.5422887964630461\n"
          ]
        }
      ],
      "source": [
        "# print the mean of RMSE of each model\n",
        "print(\"RMSE mean of simple linear regression:\", np.mean(reg_RMSE))\n",
        "print(\"RMSE mean of multiple linear regression:\", np.mean(mul_reg_RMSE))\n",
        "print(\"RMSE mean of multiple linear regression (with l2 penalization):\", np.mean(mul_reg_regul_RMSE))\n",
        "print(\"RMSE mean of polynomial regression:\", np.mean(poly_reg_RMSE))\n",
        "print(\"RMSE mean of polynomial regression (with l2 penalization):\", np.mean(poly_reg_regul_RMSE))\n",
        "print(\"RMSE mean of non linear regression with neural network (Multilayer Perceptron):\", np.mean(mlp_RMSE))"
      ]
    },
    {
      "cell_type": "markdown",
      "id": "CMGOATrrkFej",
      "metadata": {
        "id": "CMGOATrrkFej"
      },
      "source": [
        "According to the table above, we can conclude that the non linear regression with neural network performs the best since each fold it has the smallest RMSE. Also, by the mean value above it has a very low RMSE compared to others."
      ]
    }
  ],
  "metadata": {
    "colab": {
      "provenance": []
    },
    "jupytext": {
      "main_language": "python"
    },
    "kernelspec": {
      "display_name": "Python 3",
      "name": "python3"
    },
    "language_info": {
      "codemirror_mode": {
        "name": "ipython",
        "version": 3
      },
      "file_extension": ".py",
      "mimetype": "text/x-python",
      "name": "python",
      "nbconvert_exporter": "python",
      "pygments_lexer": "ipython3",
      "version": "3.10.13"
    },
    "nbreset": "https://raw.githubusercontent.com/INRIA/scikit-learn-mooc/main/notebooks/01_tabular_data_exploration_ex_01.ipynb"
  },
  "nbformat": 4,
  "nbformat_minor": 5
}
